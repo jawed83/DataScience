{
 "cells": [
  {
   "cell_type": "markdown",
   "metadata": {},
   "source": [
    "Lecture-3: Input and output in python.\n",
    "===============================\n",
    "-------------------------------------------------------------\n",
    "Topics : \n",
    "1. Console output using print function\n",
    "2. Console input using input function"
   ]
  },
  {
   "cell_type": "markdown",
   "metadata": {},
   "source": [
    "# 1.  Console output using print function\n",
    "\n",
    "General Info from docstring :\n",
    "\n",
    "    print(value, ..., sep=' ', end='\\n', file=sys.stdout, flush=False)\n",
    "\n",
    "    Prints the values to a stream, or to sys.stdout by default.\n",
    "\n",
    "    Optional keyword arguments:\n",
    "        file:  a file-like object (stream); defaults to the current sys.stdout.\n",
    "        sep:   string inserted between values, default a space.\n",
    "        end:   string appended after the last value, default a newline.\n",
    "        flush: whether to forcibly flush the stream.\n",
    "    \n",
    "    Type:      builtin_function_or_method"
   ]
  },
  {
   "cell_type": "code",
   "execution_count": 1,
   "metadata": {},
   "outputs": [
    {
     "name": "stdout",
     "output_type": "stream",
     "text": [
      "Hello, World\n",
      "Hello, World\n",
      "Hello, World\n"
     ]
    }
   ],
   "source": [
    "#Example-1: Print a String\n",
    "print('Hello, World')\n",
    "print(\"Hello, World\")\n",
    "print('''Hello, World''')"
   ]
  },
  {
   "cell_type": "code",
   "execution_count": 3,
   "metadata": {},
   "outputs": [
    {
     "name": "stdout",
     "output_type": "stream",
     "text": [
      "The value of myInt is 100\n",
      "The value of myInt is 100\n",
      "The value of myInt is 10.25\n",
      "The value of myInt is 10.25\n",
      "The value of myInt is [1, 2, 3, 4, 5]\n",
      "The value of myInt is [1, 2, 3, 4, 5]\n"
     ]
    }
   ],
   "source": [
    "anIntVal = 100\n",
    "print(\"The value of myInt is\", anIntVal)         # Print the variables value after the string ends\n",
    "print(\"The value of myInt is \" + str(anIntVal))    # If you wish to print the number in the string form\n",
    "\n",
    "aFloatVal = 10.25\n",
    "print(\"The value of myInt is\", aFloatVal)         # Print the variables value after the string ends\n",
    "print(\"The value of myInt is \" + str(aFloatVal))    # If you wish to print the number in the string form\n",
    "\n",
    "aList = [1,2,3,4,5]\n",
    "print(\"The value of myInt is\", aList)         # Print the variables value after the string ends\n",
    "print(\"The value of myInt is \" + str(aList))    # If you wish to print the number in the string form"
   ]
  },
  {
   "cell_type": "code",
   "execution_count": 11,
   "metadata": {},
   "outputs": [
    {
     "name": "stdout",
     "output_type": "stream",
     "text": [
      "The values are:  100 200 300\n",
      "The first value is:\t100 \n",
      "The second value is:\t200 \n",
      "The third value is:\t300 \n"
     ]
    }
   ],
   "source": [
    "val1, val2,val3 = 100,200,300\n",
    "print(\"The values are: \", val1,val2,val3)         # Print the variables value after the string ends\n",
    "\n",
    "#Using string format method we print modified string with values. \n",
    "print(\"The first value is:\\t{} \\nThe second value is:\\t{} \\nThe third value is:\\t{} \".format(val1,val2,val3))        "
   ]
  },
  {
   "cell_type": "code",
   "execution_count": 12,
   "metadata": {},
   "outputs": [
    {
     "name": "stdout",
     "output_type": "stream",
     "text": [
      "The first value is:\t100 \r",
      "The second value is:\t200 \r",
      "The third value is:\t300 \n"
     ]
    }
   ],
   "source": [
    "#Can you guess what is the output ?. \n",
    "print(\"The first value is:\\t{} \\rThe second value is:\\t{} \\rThe third value is:\\t{} \".format(val1,val2,val3))   "
   ]
  },
  {
   "cell_type": "code",
   "execution_count": 14,
   "metadata": {},
   "outputs": [
    {
     "name": "stdout",
     "output_type": "stream",
     "text": [
      "The third value is:\t300 \n",
      "The second value is:\t200 \n",
      "The first value is:\t100 \n"
     ]
    }
   ],
   "source": [
    "# Using string format method we print modified string with values with their positionals.\n",
    "# format treats val1 at 0th index, val2 at 1st index and val3 at 2nd index, \n",
    "# so the order of printing goes as per postional provided by the user.\n",
    "print(\"The third value is:\\t{2} \\nThe second value is:\\t{1} \\nThe first value is:\\t{0} \".format(val1,val2,val3))   "
   ]
  },
  {
   "cell_type": "markdown",
   "metadata": {},
   "source": [
    "# Accessing arguments by name:"
   ]
  },
  {
   "cell_type": "code",
   "execution_count": 15,
   "metadata": {},
   "outputs": [
    {
     "name": "stdout",
     "output_type": "stream",
     "text": [
      "Hi Hari, Welcome to the python tutorial python programming\n"
     ]
    }
   ],
   "source": [
    "# Use of variables inside format arguments to format the string, cannot be used after the format statement\n",
    "print(\"Hi {name}, Welcome to the python tutorial {python} programming\".format(name=\"Hari\", python=\"python\"))"
   ]
  },
  {
   "cell_type": "code",
   "execution_count": 16,
   "metadata": {},
   "outputs": [
    {
     "ename": "NameError",
     "evalue": "name 'name' is not defined",
     "output_type": "error",
     "traceback": [
      "\u001b[1;31m---------------------------------------------------------------------------\u001b[0m",
      "\u001b[1;31mNameError\u001b[0m                                 Traceback (most recent call last)",
      "\u001b[1;32m<ipython-input-16-0c3d58d96f94>\u001b[0m in \u001b[0;36m<module>\u001b[1;34m\u001b[0m\n\u001b[1;32m----> 1\u001b[1;33m \u001b[0mprint\u001b[0m\u001b[1;33m(\u001b[0m\u001b[0mname\u001b[0m\u001b[1;33m)\u001b[0m\u001b[1;33m\u001b[0m\u001b[1;33m\u001b[0m\u001b[0m\n\u001b[0m\u001b[0;32m      2\u001b[0m \u001b[0mprint\u001b[0m\u001b[1;33m(\u001b[0m\u001b[0mpython\u001b[0m\u001b[1;33m)\u001b[0m\u001b[1;33m\u001b[0m\u001b[1;33m\u001b[0m\u001b[0m\n",
      "\u001b[1;31mNameError\u001b[0m: name 'name' is not defined"
     ]
    }
   ],
   "source": [
    "#cannot be used after the format statement, causes error\n",
    "print(name)\n",
    "print(python)"
   ]
  },
  {
   "cell_type": "code",
   "execution_count": 17,
   "metadata": {},
   "outputs": [
    {
     "ename": "IndexError",
     "evalue": "tuple index out of range",
     "output_type": "error",
     "traceback": [
      "\u001b[1;31m---------------------------------------------------------------------------\u001b[0m",
      "\u001b[1;31mIndexError\u001b[0m                                Traceback (most recent call last)",
      "\u001b[1;32m<ipython-input-17-da2800278c70>\u001b[0m in \u001b[0;36m<module>\u001b[1;34m\u001b[0m\n\u001b[0;32m      1\u001b[0m \u001b[1;31m# Use of variables inside format arguments to format the string, cannot be used after the format statement\u001b[0m\u001b[1;33m\u001b[0m\u001b[1;33m\u001b[0m\u001b[1;33m\u001b[0m\u001b[0m\n\u001b[1;32m----> 2\u001b[1;33m \u001b[0mprint\u001b[0m\u001b[1;33m(\u001b[0m\u001b[1;34m\"Hi {0}, Welcome to the python tutorial {python} programming\"\u001b[0m\u001b[1;33m.\u001b[0m\u001b[0mformat\u001b[0m\u001b[1;33m(\u001b[0m\u001b[0mname\u001b[0m\u001b[1;33m=\u001b[0m\u001b[1;34m\"Tarini\"\u001b[0m\u001b[1;33m,\u001b[0m \u001b[0mpython\u001b[0m\u001b[1;33m=\u001b[0m\u001b[1;34m\"python\"\u001b[0m\u001b[1;33m)\u001b[0m\u001b[1;33m)\u001b[0m\u001b[1;33m\u001b[0m\u001b[1;33m\u001b[0m\u001b[0m\n\u001b[0m",
      "\u001b[1;31mIndexError\u001b[0m: tuple index out of range"
     ]
    }
   ],
   "source": [
    "# Note: When Use of variables inside format arguments to format the string, cannot be used with indexing the same \n",
    "# It will cause: IndexError: tuple index out of range\n",
    "print(\"Hi {0}, Welcome to the python tutorial {python} programming\".format(name=\"Tarini\", python=\"python\"))"
   ]
  },
  {
   "cell_type": "code",
   "execution_count": 19,
   "metadata": {},
   "outputs": [
    {
     "name": "stdout",
     "output_type": "stream",
     "text": [
      "Hi Jawed, Welcome to the python tutorial python programming\n"
     ]
    }
   ],
   "source": [
    "#But we can use:\n",
    "print(\"Hi {0}, Welcome to the python tutorial {python} programming\".format(\"Jawed\", python=\"python\"))"
   ]
  },
  {
   "cell_type": "code",
   "execution_count": 20,
   "metadata": {},
   "outputs": [
    {
     "name": "stdout",
     "output_type": "stream",
     "text": [
      "Hi Jawed, Welcome to the python tutorial python programming\n"
     ]
    }
   ],
   "source": [
    "#But we can use index and key as many times as you want to use:\n",
    "print(\"Hi {0}, Welcome to the {python} tutorial {python} programming\".format(\"Jawed\", python=\"python\"))"
   ]
  },
  {
   "cell_type": "code",
   "execution_count": 22,
   "metadata": {},
   "outputs": [
    {
     "name": "stdout",
     "output_type": "stream",
     "text": [
      "a, b, c\n"
     ]
    }
   ],
   "source": [
    "# Unpacking the string to characters\n",
    "print('{0}, {1}, {2}'.format(*'abc'))"
   ]
  },
  {
   "cell_type": "code",
   "execution_count": 23,
   "metadata": {},
   "outputs": [
    {
     "name": "stdout",
     "output_type": "stream",
     "text": [
      "a, b, c\n"
     ]
    }
   ],
   "source": [
    "# Unpacking the string to characters. Can you guesss the output?\n",
    "print('{0}, {1}, {2}'.format(*'abcd'))"
   ]
  },
  {
   "cell_type": "code",
   "execution_count": 25,
   "metadata": {},
   "outputs": [
    {
     "name": "stdout",
     "output_type": "stream",
     "text": [
      "Coordinates: 37.24N, -115.81W\n",
      "Coordinates: 37.24N, -115.81W\n"
     ]
    }
   ],
   "source": [
    "#more example of formating output\n",
    "#formating with names\n",
    "print('Coordinates: {latitude}, {longitude}'.format(latitude='37.24N', longitude='-115.81W'))\n",
    "\n",
    "#We can also do the same in different ways:\n",
    "coord = {'latitude': '37.24N', 'longitude': '-115.81W'}\n",
    "print('Coordinates: {latitude}, {longitude}'.format(**coord))"
   ]
  },
  {
   "cell_type": "markdown",
   "metadata": {},
   "source": [
    "# Accessing arguments’ attributes:"
   ]
  },
  {
   "cell_type": "code",
   "execution_count": 27,
   "metadata": {},
   "outputs": [
    {
     "name": "stdout",
     "output_type": "stream",
     "text": [
      "Real part is:  3.0\n",
      "Imaginary part is:  -5.0\n",
      "The complex number (3-5j) is formed from the real part 3.0 and the imaginary part -5.0.\n"
     ]
    }
   ],
   "source": [
    "# A complex number has two part real and imaginary, and can be accessed via c.real and c.imag\n",
    "c = 3-5j\n",
    "print(\"Real part is: \",c.real)\n",
    "print(\"Imaginary part is: \",c.imag)\n",
    "\n",
    "#We cal also format output string using formatter\n",
    "print('The complex number {0} is formed from the real part {0.real} and the imaginary part {0.imag}.'.format(c))\n"
   ]
  },
  {
   "cell_type": "code",
   "execution_count": 30,
   "metadata": {},
   "outputs": [
    {
     "name": "stdout",
     "output_type": "stream",
     "text": [
      "Points: ((4, 2))\n"
     ]
    }
   ],
   "source": [
    "class Point:\n",
    "    def __init__(self, x, y):\n",
    "        self.x, self.y = x, y\n",
    "    def __str__(self):\n",
    "        return '({self.x}, {self.y})'.format(self=self) #toString() method \n",
    "    \n",
    "print(\"Points: (\"+str(Point(4, 2))+\")\")\n"
   ]
  },
  {
   "cell_type": "markdown",
   "metadata": {},
   "source": [
    "# Accessing arguments’ items:"
   ]
  },
  {
   "cell_type": "code",
   "execution_count": 31,
   "metadata": {},
   "outputs": [
    {
     "name": "stdout",
     "output_type": "stream",
     "text": [
      "X: 3;  Y: 5\n"
     ]
    }
   ],
   "source": [
    "coord = (3, 5)\n",
    "print('X: {0[0]},  Y: {0[1]}'.format(coord))"
   ]
  },
  {
   "cell_type": "code",
   "execution_count": 32,
   "metadata": {},
   "outputs": [
    {
     "name": "stdout",
     "output_type": "stream",
     "text": [
      "repr() shows quotes: 'test1'; str() doesn't: test2\n"
     ]
    }
   ],
   "source": [
    "#Replacing %s and %r:\n",
    "print(\"repr() shows quotes: {!r}; str() doesn't: {!s}\".format('test1', 'test2'))"
   ]
  },
  {
   "cell_type": "code",
   "execution_count": 35,
   "metadata": {},
   "outputs": [
    {
     "name": "stdout",
     "output_type": "stream",
     "text": [
      "left aligned                  \n",
      "                 right aligned\n",
      "           centered           \n",
      "***********centered***********\n"
     ]
    }
   ],
   "source": [
    "# Aligning the text and specifying a width:\n",
    "print('{:<30}'.format('left aligned'))\n",
    "print('{:>30}'.format('right aligned'))\n",
    "print('{:^30}'.format('centered'))\n",
    "print('{:*^30}'.format('centered'))  # use '*' as a fill char"
   ]
  },
  {
   "cell_type": "code",
   "execution_count": 36,
   "metadata": {},
   "outputs": [
    {
     "name": "stdout",
     "output_type": "stream",
     "text": [
      "left aligned aaaaaaaaaaaaaaaaaaaaaaaaaaaaaaaaaaaaaaaaaaaaaaaaaaaa\n",
      "right aligned sssssssssssssssssssssssssssssssssssssssssssssssssss\n",
      "centerednnnnnnnnnnnnnnnnnnnnnnnnnnnnnnnnnnnnnnnnnnnnnnnnnnnnnnn\n",
      "centeredbbbbbbbbbbbbbbbbbbbbbbbbbbbbbbbbbbbbbbbbbbbbbbbb\n"
     ]
    }
   ],
   "source": [
    "# Aligning the text and specifying a width:Does not have impact if the characters are more as specified.\n",
    "print('{:<30}'.format('left aligned aaaaaaaaaaaaaaaaaaaaaaaaaaaaaaaaaaaaaaaaaaaaaaaaaaaa'))\n",
    "print('{:>30}'.format('right aligned sssssssssssssssssssssssssssssssssssssssssssssssssss'))\n",
    "print('{:^30}'.format('centerednnnnnnnnnnnnnnnnnnnnnnnnnnnnnnnnnnnnnnnnnnnnnnnnnnnnnnn'))\n",
    "print('{:*^30}'.format('centeredbbbbbbbbbbbbbbbbbbbbbbbbbbbbbbbbbbbbbbbbbbbbbbbb'))  "
   ]
  },
  {
   "cell_type": "code",
   "execution_count": 38,
   "metadata": {},
   "outputs": [
    {
     "name": "stdout",
     "output_type": "stream",
     "text": [
      "+3.140000; -3.140000\n",
      " 3.140000; -3.140000\n",
      "3.140000; -3.140000\n",
      "3.14; -3.14\n"
     ]
    }
   ],
   "source": [
    "# Replacing %+f, %-f, and % f and specifying a sign:\n",
    "print('{:+f}; {:+f}'.format(3.14, -3.14))  # show it always\n",
    "print('{: f}; {: f}'.format(3.14, -3.14))  # show a space for positive numbers\n",
    "print('{:-f}; {:-f}'.format(3.14, -3.14))  # show only the minus -- same as '{:f}; {:f}'\n",
    "print('{f}; {g}'.format(f = 3.14, g = -3.14)) #remember here f and g are two names represent the values not the format"
   ]
  },
  {
   "cell_type": "code",
   "execution_count": 39,
   "metadata": {},
   "outputs": [
    {
     "name": "stdout",
     "output_type": "stream",
     "text": [
      "int: 42;  hex: 2a;  oct: 52;  bin: 101010\n",
      "int: 42;  hex: 0x2a;  oct: 0o52;  bin: 0b101010\n"
     ]
    }
   ],
   "source": [
    "# format also supports binary numbers\n",
    "print(\"int: {0:d};  hex: {0:x};  oct: {0:o};  bin: {0:b}\".format(42))\n",
    "# with 0x, 0o, or 0b as prefix:\n",
    "print(\"int: {0:d};  hex: {0:#x};  oct: {0:#o};  bin: {0:#b}\".format(42))"
   ]
  },
  {
   "cell_type": "code",
   "execution_count": 40,
   "metadata": {},
   "outputs": [
    {
     "name": "stdout",
     "output_type": "stream",
     "text": [
      "1,234,567,890\n"
     ]
    }
   ],
   "source": [
    "# Using the comma as a thousands separator:\n",
    "print('{:,}'.format(1234567890))"
   ]
  },
  {
   "cell_type": "code",
   "execution_count": 41,
   "metadata": {},
   "outputs": [
    {
     "name": "stdout",
     "output_type": "stream",
     "text": [
      "Correct answers: 86.36%\n"
     ]
    }
   ],
   "source": [
    "# Expressing a percentage:\n",
    "points = 19\n",
    "total = 22\n",
    "print('Correct answers: {:.2%}'.format(points/total))"
   ]
  },
  {
   "cell_type": "code",
   "execution_count": 42,
   "metadata": {},
   "outputs": [
    {
     "name": "stdout",
     "output_type": "stream",
     "text": [
      "2010-07-04 12:15:58\n"
     ]
    }
   ],
   "source": [
    "#Using type-specific formatting:\n",
    "\n",
    "import datetime\n",
    "d = datetime.datetime(2010, 7, 4, 12, 15, 58)\n",
    "print('{:%Y-%m-%d %H:%M:%S}'.format(d))\n",
    "#'2010-07-04 12:15:58'"
   ]
  },
  {
   "cell_type": "code",
   "execution_count": 43,
   "metadata": {},
   "outputs": [
    {
     "name": "stdout",
     "output_type": "stream",
     "text": [
      "left<<<<<<<<<<<<\n",
      "^^^^^center^^^^^\n",
      ">>>>>>>>>>>right\n"
     ]
    }
   ],
   "source": [
    "# Nesting arguments and more complex examples\n",
    "for align, text in zip('<^>', ['left', 'center', 'right']):\n",
    "    print('{0:{fill}{align}16}'.format(text, fill=align, align=align))"
   ]
  },
  {
   "cell_type": "code",
   "execution_count": 44,
   "metadata": {},
   "outputs": [
    {
     "name": "stdout",
     "output_type": "stream",
     "text": [
      "C0A80001\n"
     ]
    }
   ],
   "source": [
    "octets = [192, 168, 0, 1]\n",
    "print('{:02X}{:02X}{:02X}{:02X}'.format(*octets))"
   ]
  },
  {
   "cell_type": "code",
   "execution_count": 46,
   "metadata": {},
   "outputs": [
    {
     "ename": "ValueError",
     "evalue": "invalid literal for int() with base 16: ''",
     "output_type": "error",
     "traceback": [
      "\u001b[1;31m---------------------------------------------------------------------------\u001b[0m",
      "\u001b[1;31mValueError\u001b[0m                                Traceback (most recent call last)",
      "\u001b[1;32m<ipython-input-46-c48cba17bd50>\u001b[0m in \u001b[0;36m<module>\u001b[1;34m\u001b[0m\n\u001b[0;32m      1\u001b[0m \u001b[1;31m#print(int(_, 16))\u001b[0m\u001b[1;33m\u001b[0m\u001b[1;33m\u001b[0m\u001b[1;33m\u001b[0m\u001b[0m\n\u001b[1;32m----> 2\u001b[1;33m \u001b[0mint\u001b[0m\u001b[1;33m(\u001b[0m\u001b[0m_\u001b[0m\u001b[1;33m,\u001b[0m \u001b[1;36m16\u001b[0m\u001b[1;33m)\u001b[0m\u001b[1;33m\u001b[0m\u001b[1;33m\u001b[0m\u001b[0m\n\u001b[0m",
      "\u001b[1;31mValueError\u001b[0m: invalid literal for int() with base 16: ''"
     ]
    }
   ],
   "source": [
    "#print(int(_, 16))\n",
    "int(_, 16)"
   ]
  },
  {
   "cell_type": "code",
   "execution_count": 47,
   "metadata": {},
   "outputs": [
    {
     "name": "stdout",
     "output_type": "stream",
     "text": [
      "    5     5     5   101 \n",
      "    6     6     6   110 \n",
      "    7     7     7   111 \n",
      "    8     8    10  1000 \n",
      "    9     9    11  1001 \n",
      "   10     A    12  1010 \n",
      "   11     B    13  1011 \n"
     ]
    }
   ],
   "source": [
    "width = 5\n",
    "for num in range(5,12): \n",
    "    for base in 'dXob':\n",
    "         print('{0:{width}{base}}'.format(num, base=base, width=width), end=' ')\n",
    "    print()"
   ]
  },
  {
   "cell_type": "markdown",
   "metadata": {},
   "source": [
    "# Fancier Output Formatting\n",
    "----------------------------------------------"
   ]
  },
  {
   "cell_type": "code",
   "execution_count": 48,
   "metadata": {},
   "outputs": [
    {
     "name": "stdout",
     "output_type": "stream",
     "text": [
      "Results of the 2019 Cricket World cup\n"
     ]
    }
   ],
   "source": [
    "year = 2019\n",
    "event = 'Cricket World cup'\n",
    "print(f'Results of the {year} {event}')"
   ]
  },
  {
   "cell_type": "code",
   "execution_count": 49,
   "metadata": {},
   "outputs": [
    {
     "name": "stdout",
     "output_type": "stream",
     "text": [
      " 42572654 YES votes  49.67%\n"
     ]
    }
   ],
   "source": [
    "yes_votes = 42_572_654\n",
    "no_votes = 43_132_495\n",
    "percentage = yes_votes / (yes_votes + no_votes)\n",
    "print('{:-9} YES votes  {:2.2%}'.format(yes_votes, percentage))"
   ]
  },
  {
   "cell_type": "code",
   "execution_count": 50,
   "metadata": {},
   "outputs": [
    {
     "name": "stdout",
     "output_type": "stream",
     "text": [
      "The value of pi is approximately 3.142.\n"
     ]
    }
   ],
   "source": [
    "import math\n",
    "print(f'The value of pi is approximately {math.pi:.3f}.')"
   ]
  },
  {
   "cell_type": "code",
   "execution_count": 52,
   "metadata": {},
   "outputs": [
    {
     "name": "stdout",
     "output_type": "stream",
     "text": [
      "Tarini     ==>       4127\n",
      "Hari       ==>       4098\n",
      "Jawed      ==>      76786\n"
     ]
    }
   ],
   "source": [
    "table = {'Tarini': 4127, 'Hari': 4098, 'Jawed': 76786}\n",
    "for name, phone in table.items():\n",
    "    print(f'{name:10} ==> {phone:10d}')"
   ]
  },
  {
   "cell_type": "code",
   "execution_count": 53,
   "metadata": {},
   "outputs": [
    {
     "name": "stdout",
     "output_type": "stream",
     "text": [
      "My hovercraft is full of eels.\n",
      "My hovercraft is full of 'eels'.\n",
      "My hovercraft is full of 'eels'.\n",
      "My hovercraft is full of eels.\n"
     ]
    }
   ],
   "source": [
    "#Other modifiers can be used to convert the value before it is formatted. \n",
    "#'!a' applies ascii(), '!s' applies str(), and '!r' applies repr():\n",
    "animals = 'eels'\n",
    "print(f'My hovercraft is full of {animals}.')\n",
    "\n",
    "print(f'My hovercraft is full of {animals!r}.')\n",
    "\n",
    "print(f'My hovercraft is full of {animals!a}.')\n",
    "\n",
    "print(f'My hovercraft is full of {animals!s}.')\n"
   ]
  },
  {
   "cell_type": "code",
   "execution_count": null,
   "metadata": {},
   "outputs": [],
   "source": []
  }
 ],
 "metadata": {
  "kernelspec": {
   "display_name": "Python 3",
   "language": "python",
   "name": "python3"
  },
  "language_info": {
   "codemirror_mode": {
    "name": "ipython",
    "version": 3
   },
   "file_extension": ".py",
   "mimetype": "text/x-python",
   "name": "python",
   "nbconvert_exporter": "python",
   "pygments_lexer": "ipython3",
   "version": "3.7.3"
  }
 },
 "nbformat": 4,
 "nbformat_minor": 2
}
